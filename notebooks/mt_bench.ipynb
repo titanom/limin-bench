{
 "cells": [
  {
   "cell_type": "markdown",
   "id": "94e91638-6f06-4d55-8fb6-e7c9b2ae48b9",
   "metadata": {},
   "source": [
    "# MT-Bench"
   ]
  },
  {
   "cell_type": "markdown",
   "id": "9d3026c5-7e6b-42a3-bdf3-2301e159d46d",
   "metadata": {},
   "source": [
    "## Load The Environment"
   ]
  },
  {
   "cell_type": "markdown",
   "id": "98b9895e-c75e-4ad6-a029-cfc7c1142df3",
   "metadata": {},
   "source": [
    "Make sure that you have created a .env file containing the OPENAI_API_KEY:"
   ]
  },
  {
   "cell_type": "code",
   "execution_count": 2,
   "id": "426a9109-9021-4e32-a5f8-48d5e1832875",
   "metadata": {},
   "outputs": [
    {
     "name": "stdout",
     "output_type": "stream",
     "text": [
      "OpenAI API key present\n"
     ]
    }
   ],
   "source": [
    "import os\n",
    "from dotenv import load_dotenv\n",
    "\n",
    "load_dotenv()\n",
    "\n",
    "if os.getenv(\"OPENAI_API_KEY\") is not None:\n",
    "    print(\"OpenAI API key present\")\n",
    "else:\n",
    "    print(\"OpenAI API key not present\")"
   ]
  },
  {
   "cell_type": "markdown",
   "id": "bc0a6df7-89be-4e1c-8804-481536a32516",
   "metadata": {},
   "source": [
    "## Load The Dataset"
   ]
  },
  {
   "cell_type": "markdown",
   "id": "8d7655ab-9c92-460a-b8ec-9fc3cb8743d5",
   "metadata": {},
   "source": [
    "The `limin_bench` package provides native functionality to load the MT-bench dataset. You can either call `load_mt_bench()` to get the entire dataset or get only specific categories by passing the list of strings containing the categories. For simplicity, we will only select the data from the `writing` category in this notebook:"
   ]
  },
  {
   "cell_type": "code",
   "execution_count": 9,
   "id": "211837c7-fa8c-4e76-a647-67b5e923b6bc",
   "metadata": {},
   "outputs": [],
   "source": [
    "from limin_bench import load_mt_bench\n",
    "dataset = load_mt_bench([\"writing\"])"
   ]
  },
  {
   "cell_type": "markdown",
   "id": "6c1ba406-82ea-4a34-944f-78f89aff0f58",
   "metadata": {},
   "source": [
    "The MT-bench dataset is a `PregeneratedMultiTurnDataset` meaning that every dataset row is a list of strings containing the pregenerated multi-turn user messages:"
   ]
  },
  {
   "cell_type": "code",
   "execution_count": 10,
   "id": "7a7f67b3-fd8c-414b-b5a5-d06c2bd570dd",
   "metadata": {},
   "outputs": [
    {
     "data": {
      "text/plain": [
       "limin_bench.base.PregeneratedMultiTurnDataset"
      ]
     },
     "execution_count": 10,
     "metadata": {},
     "output_type": "execute_result"
    }
   ],
   "source": [
    "type(dataset)"
   ]
  },
  {
   "cell_type": "markdown",
   "id": "42272ef5-c168-49be-953b-daeba6033948",
   "metadata": {},
   "source": [
    "Every dataset behaves like a regular iterable, so you can its length and index into it:"
   ]
  },
  {
   "cell_type": "code",
   "execution_count": 11,
   "id": "5b8d450e-6488-4e93-8db0-c920edfbfaac",
   "metadata": {},
   "outputs": [
    {
     "data": {
      "text/plain": [
       "10"
      ]
     },
     "execution_count": 11,
     "metadata": {},
     "output_type": "execute_result"
    }
   ],
   "source": [
    "len(dataset)"
   ]
  },
  {
   "cell_type": "code",
   "execution_count": 12,
   "id": "c490d89e-84d9-48cf-83c7-e5b60ef0fd59",
   "metadata": {},
   "outputs": [
    {
     "name": "stdout",
     "output_type": "stream",
     "text": [
      "['Compose an engaging travel blog post about a recent trip to Hawaii, highlighting cultural experiences and must-see attractions.', 'Rewrite your previous response. Start every sentence with the letter A.']\n"
     ]
    }
   ],
   "source": [
    "print(dataset[0])"
   ]
  },
  {
   "cell_type": "markdown",
   "id": "dae3cf1c-e7e6-400b-b077-cb04f4f8f8fe",
   "metadata": {},
   "source": [
    "You can also pretty-print a dataset as a markdown table. This will print the rows as well as the individual turns:"
   ]
  },
  {
   "cell_type": "code",
   "execution_count": 14,
   "id": "4101d323-b02e-416a-a5ed-a34fbfa1d953",
   "metadata": {},
   "outputs": [
    {
     "name": "stdout",
     "output_type": "stream",
     "text": [
      "| Row | Turn | Message                                                                                              |\n",
      "|-----|------|------------------------------------------------------------------------------------------------------|\n",
      "| 0   | 1    | Compose an engaging travel blog post about a recent trip to Hawaii, highlighting cultural experie... |\n",
      "|     | 2    | Rewrite your previous response. Start every sentence with the letter A.                              |\n",
      "| 1   | 1    | Draft a professional email seeking your supervisor’s feedback on the ‘Quarterly Financial Report’... |\n",
      "|     | 2    | Take a moment to evaluate and critique your own response.                                            |\n",
      "| 2   | 1    | Imagine you are writing a blog post comparing two popular smartphone models. Develop an outline f... |\n",
      "|     | 2    | Take your previous response and rephrase it as a limerick.                                           |\n",
      "| 3   | 1    | Write a persuasive email to convince your introverted friend, who dislikes public speaking, to vo... |\n",
      "|     | 2    | Can you rephrase your previous answer and incorporate a metaphor or simile in each sentence?         |\n",
      "| 4   | 1    | Describe a vivid and unique character, using strong imagery and creative language. Please answer ... |\n",
      "|     | 2    | Revise your previous response and incorporate an allusion to a famous work of literature or histo... |\n",
      "| 5   | 1    | Write a descriptive paragraph about a bustling marketplace, incorporating sensory details such as... |\n",
      "|     | 2    | Rework your previous response. Begin each sentence with the subsequent letter of the alphabet, co... |\n",
      "| 6   | 1    | Could you write a captivating short story beginning with the sentence: The old abandoned house at... |\n",
      "|     | 2    | Now, do the same task again but only use four-word sentences.                                        |\n",
      "| 7   | 1    | Craft an intriguing opening paragraph for a fictional short story. The story should involve a cha... |\n",
      "|     | 2    | Summarize the story with three bullet points using only nouns and adjectives, without verbs.         |\n",
      "| 8   | 1    | Help me construct a catchy, yet scientifically accurate, headline for an article on the latest di... |\n",
      "|     | 2    | Alter your previous response. Make the following adjustments to the 2nd option: 1. Make the tone ... |\n",
      "| 9   | 1    | Edit the following paragraph to correct any grammatical errors: She didn’t remembre where is her ... |\n",
      "|     | 2    | Modify your earlier reply and eliminate the use of gendered pronouns.                                |\n"
     ]
    }
   ],
   "source": [
    "print(dataset.to_markdown_table(max_column_length=100))"
   ]
  },
  {
   "cell_type": "markdown",
   "id": "a0bd1ac1-32ae-498d-b10d-ecc2c86b9a4f",
   "metadata": {},
   "source": [
    "## Creating a Model Run"
   ]
  },
  {
   "cell_type": "markdown",
   "id": "a7eb8140-c786-422b-859f-c6fcf04e7da3",
   "metadata": {},
   "source": [
    "Let's configure the model that we want to evaluate:"
   ]
  },
  {
   "cell_type": "code",
   "execution_count": 15,
   "id": "3e1b8f87-1701-4ac7-af81-715ff68fa19c",
   "metadata": {},
   "outputs": [],
   "source": [
    "from limin import ModelConfiguration\n",
    "\n",
    "assistant_model_configuration = ModelConfiguration(model=\"gpt-4o\", temperature=1.0)\n",
    "assistant_system_prompt = \"You are a helpful assistant.\""
   ]
  },
  {
   "cell_type": "markdown",
   "id": "7aacb87a-497d-4521-a91d-42a591e18f0d",
   "metadata": {},
   "source": [
    "To generate a model run from a `PregeneratedMultiTurnDataset` you can use the `generate_multi_turn_model_run_from_pregenerated_dataset` function:"
   ]
  },
  {
   "cell_type": "code",
   "execution_count": 17,
   "id": "8ba33c90-4ed9-4e67-a104-230c581d9d31",
   "metadata": {},
   "outputs": [
    {
     "name": "stderr",
     "output_type": "stream",
     "text": [
      "Generating model run rows: 100%|████████████████████████████████████████████████████████████████████████████████████████████████████████████████████████████████| 10/10 [00:59<00:00,  5.98s/it]\n"
     ]
    }
   ],
   "source": [
    "from limin_bench import generate_multi_turn_model_run_from_pregenerated_dataset\n",
    "\n",
    "model_run = await generate_multi_turn_model_run_from_pregenerated_dataset(\n",
    "    dataset=dataset,\n",
    "    assistant_system_prompt=assistant_system_prompt,\n",
    "    assistant_model_configuration=assistant_model_configuration\n",
    ")"
   ]
  },
  {
   "cell_type": "markdown",
   "id": "d1023193-5bdc-4994-9411-b75e7320c1bf",
   "metadata": {},
   "source": [
    "Just like the dataset, the model run is an iterable - you can get its length and index into it. Additionally, you can pretty-print it as a markdown table:"
   ]
  },
  {
   "cell_type": "code",
   "execution_count": 18,
   "id": "b2087cab-4ac7-4d00-89b2-8a12ede31164",
   "metadata": {},
   "outputs": [
    {
     "name": "stdout",
     "output_type": "stream",
     "text": [
      "| Row | Turn | Role      | Message                                            |\n",
      "|-----|------|-----------|----------------------------------------------------|\n",
      "| 0   | 0    | system    | You are a helpful assistant.                       |\n",
      "|     | 1    | user      | Compose an engaging travel blog post about a re... |\n",
      "|     |      | assistant | Title: Aloha Adventure: Embarking on a Cultural... |\n",
      "|     | 2    | user      | Rewrite your previous response. Start every sen... |\n",
      "|     |      | assistant | Aloha, dear readers! Adventure beckoned, and my... |\n",
      "| 1   | 0    | system    | You are a helpful assistant.                       |\n",
      "|     | 1    | user      | Draft a professional email seeking your supervi... |\n",
      "|     |      | assistant | Subject: Request for Feedback on Quarterly Fina... |\n",
      "|     | 2    | user      | Take a moment to evaluate and critique your own... |\n",
      "|     |      | assistant | Thank you for the opportunity to evaluate my re... |\n",
      "| 2   | 0    | system    | You are a helpful assistant.                       |\n",
      "|     | 1    | user      | Imagine you are writing a blog post comparing t... |\n",
      "|     |      | assistant | ## Blog Post Outline: Comparing the Latest Popu... |\n",
      "|     | 2    | user      | Take your previous response and rephrase it as ... |\n",
      "|     |      | assistant | Two smartphones out on the scene,   In design, ... |\n",
      "| 3   | 0    | system    | You are a helpful assistant.                       |\n",
      "|     | 1    | user      | Write a persuasive email to convince your intro... |\n",
      "|     |      | assistant | Subject: An Opportunity to Shine Your Unique Li... |\n",
      "|     | 2    | user      | Can you rephrase your previous answer and incor... |\n",
      "|     |      | assistant | Subject: A Chance to Shine Like a Star  Hi [Fri... |\n",
      "| 4   | 0    | system    | You are a helpful assistant.                       |\n",
      "|     | 1    | user      | Describe a vivid and unique character, using st... |\n",
      "|     |      | assistant | Evangeline Frost moves through the world like a... |\n",
      "|     | 2    | user      | Revise your previous response and incorporate a... |\n",
      "|     |      | assistant | Evangeline Frost moves through the world like a... |\n",
      "| 5   | 0    | system    | You are a helpful assistant.                       |\n",
      "|     | 1    | user      | Write a descriptive paragraph about a bustling ... |\n",
      "|     |      | assistant | The marketplace buzzed with life, a vibrant tap... |\n",
      "|     | 2    | user      | Rework your previous response. Begin each sente... |\n",
      "|     |      | assistant | Bustling with life, the marketplace formed a vi... |\n",
      "| 6   | 0    | system    | You are a helpful assistant.                       |\n",
      "|     | 1    | user      | Could you write a captivating short story begin... |\n",
      "|     |      | assistant | The old abandoned house at the end of the stree... |\n",
      "|     | 2    | user      | Now, do the same task again but only use four-w... |\n",
      "|     |      | assistant | The old abandoned house at the end of the stree... |\n",
      "| 7   | 0    | system    | You are a helpful assistant.                       |\n",
      "|     | 1    | user      | Craft an intriguing opening paragraph for a fic... |\n",
      "|     |      | assistant | When Elliot Andrews opened his eyes on that fog... |\n",
      "|     | 2    | user      | Summarize the story with three bullet points us... |\n",
      "|     |      | assistant | - Morning awakening, kaleidoscopic visions, swi... |\n",
      "| 8   | 0    | system    | You are a helpful assistant.                       |\n",
      "|     | 1    | user      | Help me construct a catchy, yet scientifically ... |\n",
      "|     |      | assistant | Certainly! Here are four headline options that ... |\n",
      "|     | 2    | user      | Alter your previous response. Make the followin... |\n",
      "|     |      | assistant | \"Growing Clean Energy: FlexPower's Sustainable ... |\n",
      "| 9   | 0    | system    | You are a helpful assistant.                       |\n",
      "|     | 1    | user      | Edit the following paragraph to correct any gra... |\n",
      "|     |      | assistant | She didn’t remember where her purse was, so I t... |\n",
      "|     | 2    | user      | Modify your earlier reply and eliminate the use... |\n",
      "|     |      | assistant | She didn’t remember where the purse was, so I t... |\n"
     ]
    }
   ],
   "source": [
    "print(model_run.to_markdown_table(max_column_length=50))"
   ]
  },
  {
   "cell_type": "markdown",
   "id": "365c7b18-dccf-4c72-9c58-ef459412f48c",
   "metadata": {},
   "source": [
    "## Creating an Evaluation Run"
   ]
  },
  {
   "cell_type": "markdown",
   "id": "aa29327c-297d-4140-bcfd-1b4c404a75e1",
   "metadata": {},
   "source": [
    "Let's now configure the Likert judge that we use to evaluate the model (or, technically, the model run). We will lift the system prompt straight from the MT-Bench paper except that we will use the `structured` argument to parse the response:"
   ]
  },
  {
   "cell_type": "code",
   "execution_count": 20,
   "id": "9737eb72-3f9d-4b81-9666-6a748f1bb3bc",
   "metadata": {},
   "outputs": [],
   "source": [
    "from limin_bench import LikertJudge"
   ]
  },
  {
   "cell_type": "code",
   "execution_count": 21,
   "id": "344383b0-de23-4b9b-9a5e-3320d10fd49e",
   "metadata": {},
   "outputs": [],
   "source": [
    "judge_system_prompt = \"\"\"\n",
    "Please act as an impartial judge and evaluate the quality of the response provided by an AI assistant to the user question displayed below.\n",
    "Your evaluation should consider factors such as the helpfulness, relevance, accuracy, depth, creativity, and level of detail of the response.\n",
    "You evaluation should focus on the assistant's answer to the second user question.\n",
    "Begin your evaluation by providing a short explanation.\n",
    "Be as objective as possible.\n",
    "After providing your explanation, you must rate the response on a scale of 1 to 10.\n",
    "\"\"\"\n",
    "\n",
    "likert_judge = LikertJudge(\n",
    "    model_configuration=ModelConfiguration(model=\"gpt-4o\", temperature=0.4),\n",
    "    system_prompt=judge_system_prompt\n",
    ")"
   ]
  },
  {
   "cell_type": "markdown",
   "id": "0ca2cdaa-fb6c-4d97-878c-2a947bdd567b",
   "metadata": {},
   "source": [
    "Now we can execute the evaluation run. Even though have a pregenerated multi-turn dataset executing an evaluation run works the same as with a regular single-turn dataset. This is the beauty of `limin-bench` - evaluation runs don't care about the initial structure of your dataset, they only care about how the model run looks like. And the model run always looks the same - it's a list of conversations. We will set `n_stability_runs=2` - this means that for every model run row we will have the judge evaluate the row `2` times and then check whether the values match. It is always recommended to set `n_stability_runs > 1` in order to verify that your judge isn't just producing arbitrary guesses:"
   ]
  },
  {
   "cell_type": "code",
   "execution_count": 23,
   "id": "fbcdd0d0-843d-48e9-804a-5358f9b649c2",
   "metadata": {},
   "outputs": [
    {
     "name": "stderr",
     "output_type": "stream",
     "text": [
      "Generating likert evaluation run: 100%|█████████████████████████████████████████████████████████████████████████████████████████████████████████████████████████| 10/10 [00:31<00:00,  3.17s/it]\n"
     ]
    }
   ],
   "source": [
    "from limin_bench import generate_evaluation_run_likert\n",
    "\n",
    "evaluation_run = await generate_evaluation_run_likert(\n",
    "    model_run=model_run,\n",
    "    likert_judge=likert_judge,\n",
    "    n_stability_runs=2,\n",
    "    structured=True\n",
    ")"
   ]
  },
  {
   "cell_type": "markdown",
   "id": "6781372a-623a-43c2-bdb8-6bf3bc3051fb",
   "metadata": {},
   "source": [
    "Once again, we can pretty print the result as a markdown table:"
   ]
  },
  {
   "cell_type": "code",
   "execution_count": 25,
   "id": "ae3806fb-379b-4f8d-9342-7d314b2dffc4",
   "metadata": {},
   "outputs": [
    {
     "name": "stdout",
     "output_type": "stream",
     "text": [
      "| Row | Turn | Role      | Message                        | Explanation                    | Score | Instability |\n",
      "|-----|------|-----------|--------------------------------|--------------------------------|-------|-------------|\n",
      "| 0   | 0    | system    | You are a helpful assistant.   |                                |       |             |\n",
      "|     | 1    | user      | Compose an engaging travel ... |                                |       |             |\n",
      "|     |      | assistant | Title: Aloha Adventure: Emb... |                                |       |             |\n",
      "|     | 2    | user      | Rewrite your previous respo... |                                |       |             |\n",
      "|     |      | assistant | Aloha, dear readers! Advent... | The AI assistant successful... | 8.0   | 0.0         |\n",
      "| 1   | 0    | system    | You are a helpful assistant.   |                                |       |             |\n",
      "|     | 1    | user      | Draft a professional email ... |                                |       |             |\n",
      "|     |      | assistant | Subject: Request for Feedba... |                                |       |             |\n",
      "|     | 2    | user      | Take a moment to evaluate a... |                                |       |             |\n",
      "|     |      | assistant | Thank you for the opportuni... | The assistant's self-evalua... | 9.0   | 0.0         |\n",
      "| 2   | 0    | system    | You are a helpful assistant.   |                                |       |             |\n",
      "|     | 1    | user      | Imagine you are writing a b... |                                |       |             |\n",
      "|     |      | assistant | ## Blog Post Outline: Compa... |                                |       |             |\n",
      "|     | 2    | user      | Take your previous response... |                                |       |             |\n",
      "|     |      | assistant | Two smartphones out on the ... | The assistant successfully ... | 8.0   | 0.0         |\n",
      "| 3   | 0    | system    | You are a helpful assistant.   |                                |       |             |\n",
      "|     | 1    | user      | Write a persuasive email to... |                                |       |             |\n",
      "|     |      | assistant | Subject: An Opportunity to ... |                                |       |             |\n",
      "|     | 2    | user      | Can you rephrase your previ... |                                |       |             |\n",
      "|     |      | assistant | Subject: A Chance to Shine ... | The assistant's response ef... | 9.0   | 0.0         |\n",
      "| 4   | 0    | system    | You are a helpful assistant.   |                                |       |             |\n",
      "|     | 1    | user      | Describe a vivid and unique... |                                |       |             |\n",
      "|     |      | assistant | Evangeline Frost moves thro... |                                |       |             |\n",
      "|     | 2    | user      | Revise your previous respon... |                                |       |             |\n",
      "|     |      | assistant | Evangeline Frost moves thro... | The assistant's response ef... | 9.0   | 0.0         |\n",
      "| 5   | 0    | system    | You are a helpful assistant.   |                                |       |             |\n",
      "|     | 1    | user      | Write a descriptive paragra... |                                |       |             |\n",
      "|     |      | assistant | The marketplace buzzed with... |                                |       |             |\n",
      "|     | 2    | user      | Rework your previous respon... |                                |       |             |\n",
      "|     |      | assistant | Bustling with life, the mar... | The assistant's response ef... | 9.0   | 0.0         |\n",
      "| 6   | 0    | system    | You are a helpful assistant.   |                                |       |             |\n",
      "|     | 1    | user      | Could you write a captivati... |                                |       |             |\n",
      "|     |      | assistant | The old abandoned house at ... |                                |       |             |\n",
      "|     | 2    | user      | Now, do the same task again... |                                |       |             |\n",
      "|     |      | assistant | The old abandoned house at ... | The assistant effectively r... | 8.5   | 0.71        |\n",
      "| 7   | 0    | system    | You are a helpful assistant.   |                                |       |             |\n",
      "|     | 1    | user      | Craft an intriguing opening... |                                |       |             |\n",
      "|     |      | assistant | When Elliot Andrews opened ... |                                |       |             |\n",
      "|     | 2    | user      | Summarize the story with th... |                                |       |             |\n",
      "|     |      | assistant | - Morning awakening, kaleid... | The assistant's response ef... | 8.5   | 0.71        |\n",
      "| 8   | 0    | system    | You are a helpful assistant.   |                                |       |             |\n",
      "|     | 1    | user      | Help me construct a catchy,... |                                |       |             |\n",
      "|     |      | assistant | Certainly! Here are four he... |                                |       |             |\n",
      "|     | 2    | user      | Alter your previous respons... |                                |       |             |\n",
      "|     |      | assistant | \"Growing Clean Energy: Flex... | The assistant successfully ... | 8.5   | 0.71        |\n",
      "| 9   | 0    | system    | You are a helpful assistant.   |                                |       |             |\n",
      "|     | 1    | user      | Edit the following paragrap... |                                |       |             |\n",
      "|     |      | assistant | She didn’t remember where h... |                                |       |             |\n",
      "|     | 2    | user      | Modify your earlier reply a... |                                |       |             |\n",
      "|     |      | assistant | She didn’t remember where t... | The AI assistant successful... | 8.0   | 0.0         |\n"
     ]
    }
   ],
   "source": [
    "print(evaluation_run.to_markdown_table(max_column_length=30))"
   ]
  },
  {
   "cell_type": "markdown",
   "id": "80047908-88e7-42d2-9e75-521d9e30b1d7",
   "metadata": {},
   "source": [
    "We can see a few rows with an instability value greater than `0`. This means that for these rows the judge produced different values between runs. We can check such a row in more detail:"
   ]
  },
  {
   "cell_type": "code",
   "execution_count": 27,
   "id": "e3b39884-ab85-43a5-aed9-34cfa74f0092",
   "metadata": {},
   "outputs": [],
   "source": [
    "unstable_row = evaluation_run[6]"
   ]
  },
  {
   "cell_type": "markdown",
   "id": "f7c84731-b572-4799-b0fb-ec63d3d7aa5c",
   "metadata": {},
   "source": [
    "Here are the full results, including the judge response (explanation) and the final value:"
   ]
  },
  {
   "cell_type": "code",
   "execution_count": 32,
   "id": "3990e4aa-f476-464d-ba00-f0cb2dbb2d0f",
   "metadata": {},
   "outputs": [
    {
     "data": {
      "text/plain": [
       "[LikertEvaluationRunRowResult(judge_response=\"The assistant effectively responded to the user's request to rewrite the story using four-word sentences. The response maintained the essence of the original story while adhering to the constraint of using only four-word sentences. This approach resulted in a concise and focused narrative that still conveyed the key elements of the plot. The assistant demonstrated creativity by successfully adapting the story to the new format without losing coherence or depth. Overall, the response was relevant, accurate, and showed a good level of detail given the constraints.\", value=9, explanation=\"The assistant effectively responded to the user's request to rewrite the story using four-word sentences. The response maintained the essence of the original story while adhering to the constraint of using only four-word sentences. This approach resulted in a concise and focused narrative that still conveyed the key elements of the plot. The assistant demonstrated creativity by successfully adapting the story to the new format without losing coherence or depth. Overall, the response was relevant, accurate, and showed a good level of detail given the constraints.\"),\n",
       " LikertEvaluationRunRowResult(judge_response=\"The assistant's response to the second user question is quite effective given the constraints of using only four-word sentences. It maintains coherence and conveys a sense of mystery and discovery, similar to the original story. The response is creative, as it manages to tell a condensed version of the story while adhering to the sentence length restriction. However, the depth and detail are naturally limited by the format, which impacts the richness of the narrative. Despite this, the assistant successfully captures the essence of the story and provides a satisfying conclusion. Overall, the response is a commendable effort within the given limitations.\", value=8, explanation=\"The assistant's response to the second user question is quite effective given the constraints of using only four-word sentences. It maintains coherence and conveys a sense of mystery and discovery, similar to the original story. The response is creative, as it manages to tell a condensed version of the story while adhering to the sentence length restriction. However, the depth and detail are naturally limited by the format, which impacts the richness of the narrative. Despite this, the assistant successfully captures the essence of the story and provides a satisfying conclusion. Overall, the response is a commendable effort within the given limitations.\")]"
      ]
     },
     "execution_count": 32,
     "metadata": {},
     "output_type": "execute_result"
    }
   ],
   "source": [
    "unstable_row.results"
   ]
  },
  {
   "cell_type": "markdown",
   "id": "be567a99-6b56-4099-a142-e0d392811e88",
   "metadata": {},
   "source": [
    "We can calculate the final value of the evaluation run row by taking either the mean (default), min or max result between the values:"
   ]
  },
  {
   "cell_type": "code",
   "execution_count": 31,
   "id": "d4d0935c-878c-45e1-8281-5a51c38cc090",
   "metadata": {},
   "outputs": [
    {
     "data": {
      "text/plain": [
       "8.5"
      ]
     },
     "execution_count": 31,
     "metadata": {},
     "output_type": "execute_result"
    }
   ],
   "source": [
    "unstable_row.value()"
   ]
  },
  {
   "cell_type": "code",
   "execution_count": 33,
   "id": "d94d17de-f710-4fd7-8d59-9186d6d7971b",
   "metadata": {},
   "outputs": [
    {
     "data": {
      "text/plain": [
       "8.5"
      ]
     },
     "execution_count": 33,
     "metadata": {},
     "output_type": "execute_result"
    }
   ],
   "source": [
    "unstable_row.value(\"mean\")"
   ]
  },
  {
   "cell_type": "code",
   "execution_count": 34,
   "id": "cf00ffb3-7aaf-4f2f-aba8-1c5a5fe4df29",
   "metadata": {},
   "outputs": [
    {
     "data": {
      "text/plain": [
       "9"
      ]
     },
     "execution_count": 34,
     "metadata": {},
     "output_type": "execute_result"
    }
   ],
   "source": [
    "unstable_row.value(\"max\")"
   ]
  },
  {
   "cell_type": "code",
   "execution_count": 35,
   "id": "21f24808-e94f-4ec0-b466-18bb81b8321c",
   "metadata": {},
   "outputs": [
    {
     "data": {
      "text/plain": [
       "8"
      ]
     },
     "execution_count": 35,
     "metadata": {},
     "output_type": "execute_result"
    }
   ],
   "source": [
    "unstable_row.value(\"min\")"
   ]
  },
  {
   "cell_type": "markdown",
   "id": "83812028-eadb-4d2b-8caf-f3541c25ac94",
   "metadata": {},
   "source": [
    "Additionally, we can get the instability of a single evaluation row - the higher the instability, the more different the judge responses were between evaluations, the more unusable the evaluation is. The instability is calculated as the standard deviation of the values."
   ]
  },
  {
   "cell_type": "code",
   "execution_count": 36,
   "id": "fee981ed-758e-4292-b642-ed4073d892f7",
   "metadata": {},
   "outputs": [
    {
     "data": {
      "text/plain": [
       "0.7071067811865476"
      ]
     },
     "execution_count": 36,
     "metadata": {},
     "output_type": "execute_result"
    }
   ],
   "source": [
    "unstable_row.instability"
   ]
  },
  {
   "cell_type": "markdown",
   "id": "65d9b728-4be7-429a-8b4b-bdb42cb9db3b",
   "metadata": {},
   "source": [
    "Finally, we can calculate the total average value and the total instability of the evaluation run:"
   ]
  },
  {
   "cell_type": "code",
   "execution_count": 37,
   "id": "4368759d-1b51-4921-934d-674d742a50e2",
   "metadata": {},
   "outputs": [
    {
     "data": {
      "text/plain": [
       "8.55"
      ]
     },
     "execution_count": 37,
     "metadata": {},
     "output_type": "execute_result"
    }
   ],
   "source": [
    "evaluation_run.avg"
   ]
  },
  {
   "cell_type": "code",
   "execution_count": 39,
   "id": "2c967c29-4c3a-4695-beac-902e466f723b",
   "metadata": {},
   "outputs": [
    {
     "data": {
      "text/plain": [
       "0.21213203435596428"
      ]
     },
     "execution_count": 39,
     "metadata": {},
     "output_type": "execute_result"
    }
   ],
   "source": [
    "evaluation_run.instability()"
   ]
  },
  {
   "cell_type": "markdown",
   "id": "c18d19e5-e439-4f80-823c-75d29dc138ca",
   "metadata": {},
   "source": [
    "We have an average score of `8.5 / 10` and an instability of `0.21` indicating that the evaluation is good and useful. Of course, a low instability is not a definitive indicator that you have a usable evaluation - maybe you just wrote a prompt that is too easy. Nevertheless, it is still useful to get an overall sense of how well you structured your evaluation - a high instability is a definitive indicator of an unusable evaluation."
   ]
  },
  {
   "cell_type": "code",
   "execution_count": null,
   "id": "0ac029bf-a0aa-4a8f-92f6-39d27b0c8674",
   "metadata": {},
   "outputs": [],
   "source": []
  }
 ],
 "metadata": {
  "kernelspec": {
   "display_name": "Python 3 (ipykernel)",
   "language": "python",
   "name": "python3"
  },
  "language_info": {
   "codemirror_mode": {
    "name": "ipython",
    "version": 3
   },
   "file_extension": ".py",
   "mimetype": "text/x-python",
   "name": "python",
   "nbconvert_exporter": "python",
   "pygments_lexer": "ipython3",
   "version": "3.10.16"
  }
 },
 "nbformat": 4,
 "nbformat_minor": 5
}
